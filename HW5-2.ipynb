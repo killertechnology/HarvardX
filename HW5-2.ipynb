{
 "cells": [
  {
   "cell_type": "markdown",
   "metadata": {},
   "source": [
    "# Using Python for Research Homework: Week 5, Case Study Part 2\n",
    "\n",
    "The [movie dataset on which this case study is based](https://www.kaggle.com/tmdb/tmdb-movie-metadata) is a database of 5000 movies catalogued by [The Movie Database (TMDb)](https://www.themoviedb.org/?language=en). The information available about each movie is its budget, revenue, rating, actors and actresses, etc. In this case study, we will use this dataset to determine whether any information about a movie can predict the total revenue of a movie. We will also attempt to predict whether a movie's revenue will exceed its budget.\n",
    "\n",
    "In Part 2, we will use the dataset prepared in Part 1 for an applied analysis."
   ]
  },
  {
   "cell_type": "code",
   "execution_count": 22,
   "metadata": {},
   "outputs": [],
   "source": [
    "# DO NOT EDIT THIS CODE\n",
    "import pandas as pd\n",
    "import numpy as np\n",
    "\n",
    "from sklearn.model_selection import cross_val_score\n",
    "from sklearn.linear_model import LinearRegression\n",
    "from sklearn.linear_model import LogisticRegression\n",
    "from sklearn.ensemble import RandomForestRegressor\n",
    "from sklearn.ensemble import RandomForestClassifier\n",
    "\n",
    "from sklearn.metrics import accuracy_score\n",
    "from sklearn.metrics import r2_score\n",
    "\n",
    "import matplotlib.pyplot as plt\n",
    "\n",
    "import warnings\n",
    "warnings.filterwarnings(\"ignore\")\n",
    "\n",
    "# EDIT THIS CODE TO LOAD THE SAVED DF FROM THE LAST HOMEWORK\n",
    "df = pd.read_csv('movies_clean.csv')"
   ]
  },
  {
   "cell_type": "markdown",
   "metadata": {},
   "source": [
    "### Exercise 1\n",
    "\n",
    "In Part 2 of this case study, we will primarily use the two models we recently discussed: linear/logistic regression and random forests to perform prediction and classification. We will use these methods to predict revenue, and we will use logistic regression to classify whether a movie was profitable.\n",
    "\n",
    "In this exercise, we will instantiate regression and classification models. Code is provided that prepares the covariates and outcomes we will use for data analysis.\n",
    "\n",
    "#### Instructions\n",
    "- Instantiate `LinearRegression()`, `LogisticRegression()`, `RandomForestRegressor()`, and `RandomForestClassifier()` objects, and assign them to `linear_regression`, `logistic_regression`, `forest_regression`, and `forest_classifier`, respectively.\n",
    "- For the random forests models, specify `max_depth=4` and `random_state=0`."
   ]
  },
  {
   "cell_type": "code",
   "execution_count": 23,
   "metadata": {},
   "outputs": [],
   "source": [
    "# Define all covariates and outcomes from `df`.\n",
    "regression_target = 'revenue'\n",
    "classification_target = 'profitable'\n",
    "all_covariates = ['budget', 'popularity', 'runtime', 'vote_count', 'vote_average', 'Action', 'Adventure', 'Fantasy', \n",
    "                  'Science Fiction', 'Crime', 'Drama', 'Thriller', 'Animation', 'Family', 'Western', 'Comedy', 'Romance', \n",
    "                  'Horror', 'Mystery', 'War', 'History', 'Music', 'Documentary', 'TV Movie', 'Foreign']\n",
    "\n",
    "regression_outcome = df[regression_target]\n",
    "classification_outcome = df[classification_target]\n",
    "covariates = df[all_covariates]\n",
    "\n",
    "# Instantiate all regression models and classifiers.\n",
    "linear_regression = LinearRegression()\n",
    "logistic_regression = LogisticRegression()\n",
    "forest_regression = RandomForestRegressor(max_depth=4, random_state=0)\n",
    "forest_classifier = RandomForestClassifier(max_depth=4, random_state=0)"
   ]
  },
  {
   "cell_type": "markdown",
   "metadata": {},
   "source": [
    "### Exercise 2\n",
    "\n",
    "In this exercise, we will create two functions that compute a model's score. For regression models, we will use correlation as the score. For classification models, we will use accuracy as the score.\n",
    "\n",
    "#### Instructions \n",
    "- Define a function called `correlation` with arguments `estimator`, `X`, and `y`. The function should compute the correlation between the observed outcome `y` and the outcome predicted by the model.\n",
    "    - To obtain predictions, the function should first use the `fit` method of `estimator` and then use the `predict` method from the fitted object.\n",
    "    - The function should return the first argument from `r2_score` comparing `predictions` and `y`.\n",
    "- Define a function called `accuracy` with the same arguments and code, substituting `accuracy_score` for `r2_score`."
   ]
  },
  {
   "cell_type": "code",
   "execution_count": 24,
   "metadata": {},
   "outputs": [],
   "source": [
    "# Enter your code here.\n",
    "from sklearn.metrics import r2_score, accuracy_score\n",
    "\n",
    "# Function to compute correlation (R^2 score)\n",
    "def correlation(estimator, X, y):\n",
    "    \"\"\"\n",
    "    Computes the correlation (R^2 score) between observed outcome y\n",
    "    and predicted outcome by the model estimator.\n",
    "    \"\"\"\n",
    "    # Fit the estimator on the data\n",
    "    estimator.fit(X, y)\n",
    "    \n",
    "    # Generate predictions\n",
    "    predictions = estimator.predict(X)\n",
    "    \n",
    "    # Compute and return the R^2 score\n",
    "    return r2_score(y, predictions)\n",
    "\n",
    "# Function to compute accuracy\n",
    "def accuracy(estimator, X, y):\n",
    "    \"\"\"\n",
    "    Computes the accuracy between observed outcome y\n",
    "    and predicted outcome by the model estimator.\n",
    "    \"\"\"\n",
    "    # Fit the estimator on the data\n",
    "    estimator.fit(X, y)\n",
    "    \n",
    "    # Generate predictions\n",
    "    predictions = estimator.predict(X)\n",
    "    \n",
    "    # Compute and return the accuracy score\n",
    "    return accuracy_score(y, predictions)"
   ]
  },
  {
   "cell_type": "markdown",
   "metadata": {},
   "source": [
    "### Exercise 3\n",
    "\n",
    "In this exercise, we will compute the cross-validated performance for the linear and random forest regression models.\n",
    "\n",
    "#### Instructions \n",
    "\n",
    "- Call `cross_val_score` using `linear_regression` and `forest regression` as models. Store the output as `linear_regression_scores` and `forest_regression_scores`, respectively.\n",
    "    - Set the parameters `cv=10` to use 10-fold cross-validation and `scoring=correlation` to use our `correlation` function defined in the previous exercise.\n",
    "- Plotting code has been provided to compare the performance of the two models. Use `plt.show()` to plot the correlation between actual and predicted revenue for each cross-validation fold using the linear and random forest regression models.\n",
    "- Which of the two models exhibits a better fit?"
   ]
  },
  {
   "cell_type": "code",
   "execution_count": 35,
   "metadata": {},
   "outputs": [
    {
     "data": {
      "image/png": "[encoded data removed]",
      "text/plain": [
       "<Figure size 640x480 with 1 Axes>"
      ]
     },
     "metadata": {},
     "output_type": "display_data"
    },
    {
     "name": "stdout",
     "output_type": "stream",
     "text": [
      "Mean Linear Regression Score: 0.5904178649537114\n",
      "Mean Random Forest Regression Score: 0.7725584078584653\n"
     ]
    }
   ],
   "source": [
    "from sklearn.model_selection import cross_val_score\n",
    "\n",
    "# Determine the cross-validated correlation for linear and random forest models.\n",
    "linear_regression_scores = cross_val_score(\n",
    "    linear_regression, covariates, regression_outcome, cv=10, scoring=correlation\n",
    ")\n",
    "forest_regression_scores = cross_val_score(\n",
    "    forest_regression, covariates, regression_outcome, cv=10, scoring=correlation\n",
    ")\n",
    "\n",
    "# Plot Results\n",
    "plt.axes().set_aspect('equal', 'box')\n",
    "plt.scatter(linear_regression_scores, forest_regression_scores)\n",
    "plt.plot((0, 1), (0, 1), 'k-')  # Reference diagonal line\n",
    "\n",
    "plt.xlim(0, 1)\n",
    "plt.ylim(0, 1)\n",
    "plt.xlabel(\"Linear Regression Score\")\n",
    "plt.ylabel(\"Forest Regression Score\")\n",
    "\n",
    "# Show the plot\n",
    "plt.show()\n",
    "print(\"Mean Linear Regression Score:\", linear_regression_scores.mean())\n",
    "print(\"Mean Random Forest Regression Score:\", forest_regression_scores.mean())"
   ]
  },
  {
   "cell_type": "markdown",
   "metadata": {},
   "source": [
    "### Exercise 4\n",
    "\n",
    "In this exercise, we will compute cross-validated performance for the linear and random forest classification models.\n",
    "\n",
    "#### Instructions \n",
    "- Call `cross_val_score` using `logistic_regression` and `forest_classifier` as models. Store the output as `logistic_regression_scores` and `forest_classification_scores`, respectively.\n",
    "    - Set the parameters `cv=10` to use 10-fold cross-validation and `scoring=accuracy` to use our accuracy function defined in the previous exercise.\n",
    "- Plotting code has been provided to compare the performance of the two models. Use `plt.show()` to plot the accuracy of predicted profitability for each cross-validation fold using the logistic and random forest classification models.\n",
    "- Which of the two models exhibits a better fit?"
   ]
  },
  {
   "cell_type": "code",
   "execution_count": 36,
   "metadata": {},
   "outputs": [
    {
     "data": {
      "image/png": "[encoded data removed]",
      "text/plain": [
       "<Figure size 640x480 with 1 Axes>"
      ]
     },
     "metadata": {},
     "output_type": "display_data"
    },
    {
     "name": "stdout",
     "output_type": "stream",
     "text": [
      "Mean Linear Regression Score: 0.5904178649537114\n",
      "Mean Random Forest Regression Score: 0.7725584078584653\n"
     ]
    }
   ],
   "source": [
    "\n",
    "\n",
    "\n",
    "\n",
    "# Retry cross-validation\n",
    "logistic_regression_scores = cross_val_score(\n",
    "    logistic_regression, covariates, df['profitable'], cv=10, scoring='accuracy'\n",
    ")\n",
    "forest_classification_scores = cross_val_score(\n",
    "    forest_classifier, covariates, df['profitable'], cv=10, scoring='accuracy'\n",
    ")\n",
    "\n",
    "# Plot Results\n",
    "plt.axes().set_aspect('equal', 'box')\n",
    "plt.scatter(logistic_regression_scores, forest_classification_scores)\n",
    "plt.plot((0, 1), (0, 1), 'k-')  # Reference diagonal line\n",
    "\n",
    "plt.xlim(0, 1)\n",
    "plt.ylim(0, 1)\n",
    "plt.xlabel(\"Logistic Regression Score\")\n",
    "plt.ylabel(\"Forest Classification Score\")\n",
    "\n",
    "plt.show()\n",
    "print(\"Mean Linear Regression Score:\", linear_regression_scores.mean())\n",
    "print(\"Mean Random Forest Regression Score:\", forest_regression_scores.mean())"
   ]
  },
  {
   "cell_type": "markdown",
   "metadata": {},
   "source": [
    "### Exercise 5 \n",
    "\n",
    "In Exercise 3, we saw that predicting revenue was only moderately successful. It might be the case that predicting movies that generated precisely no revenue is difficult. In the next three exercises, we will exclude these movies, and rerun the analyses to determine if the fits improve. In this exercise, we will rerun the regression analysis for this subsetted dataset.\n",
    "\n",
    "#### Instructions \n",
    "\n",
    "- Define `positive_revenue_df` as the subset of movies in `df` with `revenue` greater than zero.\n",
    "- Code is provided below that creates new instances of model objects. Replace all instances of `df` with `positive_revenue_df`, and run the given code."
   ]
  },
  {
   "cell_type": "code",
   "execution_count": 37,
   "metadata": {},
   "outputs": [
    {
     "name": "stdout",
     "output_type": "stream",
     "text": [
      "Linear Regression Scores: [0.68103082 0.69223883 0.59762479 0.63074155 0.62351238 0.65828904\n",
      " 0.38594805 0.64576018 0.51220714 0.47682587]\n",
      "Random Forest Regression Scores: [0.83552202 0.8147779  0.76387032 0.7572025  0.79467131 0.76918022\n",
      " 0.80491922 0.72191439 0.76225876 0.70126744]\n",
      "Logistic Regression Scores: [0.93495935 0.95121951 0.94308943 0.88617886 0.91056911 0.90243902\n",
      " 0.90983607 0.90983607 0.86885246 0.86885246]\n",
      "Random Forest Classification Scores: [0.99186992 1.         0.98373984 0.98373984 0.99186992 0.99186992\n",
      " 0.97540984 0.97540984 0.92622951 0.93442623]\n",
      "Mean Random Forest Regression Score: 0.7725584078584653\n"
     ]
    }
   ],
   "source": [
    "# Define the subset of movies with positive revenue\n",
    "positive_revenue_df = df[df['revenue'] > 0]\n",
    "\n",
    "# Replace the dataframe in the following code\n",
    "regression_outcome = positive_revenue_df[regression_target]\n",
    "classification_outcome = positive_revenue_df[classification_target]\n",
    "covariates = positive_revenue_df[all_covariates]\n",
    "\n",
    "# Reinstantiate all regression models and classifiers\n",
    "linear_regression = LinearRegression()\n",
    "logistic_regression = LogisticRegression()\n",
    "forest_regression = RandomForestRegressor(max_depth=4, random_state=0)\n",
    "forest_classifier = RandomForestClassifier(max_depth=4, random_state=0)\n",
    "\n",
    "# Compute cross-validation scores for regression models\n",
    "linear_regression_scores = cross_val_score(\n",
    "    linear_regression, covariates, regression_outcome, cv=10, scoring=correlation\n",
    ")\n",
    "forest_regression_scores = cross_val_score(\n",
    "    forest_regression, covariates, regression_outcome, cv=10, scoring=correlation\n",
    ")\n",
    "\n",
    "# Compute cross-validation scores for classification models\n",
    "logistic_regression_scores = cross_val_score(\n",
    "    logistic_regression, covariates, classification_outcome, cv=10, scoring=accuracy\n",
    ")\n",
    "forest_classification_scores = cross_val_score(\n",
    "    forest_classifier, covariates, classification_outcome, cv=10, scoring=accuracy\n",
    ")\n",
    "\n",
    "# Display results\n",
    "print(\"Linear Regression Scores:\", linear_regression_scores)\n",
    "print(\"Random Forest Regression Scores:\", forest_regression_scores)\n",
    "print(\"Logistic Regression Scores:\", logistic_regression_scores)\n",
    "print(\"Random Forest Classification Scores:\", forest_classification_scores)\n",
    "\n",
    "# Calculate the mean of the 10 cross-validation scores\n",
    "mean_forest_score = forest_regression_scores.mean()\n",
    "\n",
    "# Print the result\n",
    "print(\"Mean Random Forest Regression Score:\", mean_forest_score)\n"
   ]
  },
  {
   "cell_type": "markdown",
   "metadata": {},
   "source": [
    "### Exercise 6\n",
    "\n",
    "In this exercise, we will compute the cross-validated performance for the linear and random forest regression models for positive revenue movies only.\n",
    "\n",
    "#### Instructions \n",
    "\n",
    "- Call `cross_val_score` using `linear_regression` and `forest regression` as models. Store the output as `linear_regression_scores` and `forest_regression_scores`, respectively.\n",
    "    - Set the parameters `cv=10` to use 10-fold cross-validation and `scoring=correlation` to use our `correlation` function defined in the previous exercise.\n",
    "- Plotting code has been provided to compare the performance of the two models. Use `plt.show()` to plot the correlation between actual and predicted revenue for each cross-validation fold using the linear and random forest regression models.\n",
    "- Which of the two models exhibits a better fit? Is this result different from what we observed when considering all movies?\n",
    "- Code is provided for you that prints the importance of each covariate in predicting revenue using the random forests classifier. \n",
    "    - Which variables are most important?"
   ]
  },
  {
   "cell_type": "code",
   "execution_count": 33,
   "metadata": {},
   "outputs": [
    {
     "data": {
      "image/png": "[encoded data removed]",
      "text/plain": [
       "<Figure size 640x480 with 1 Axes>"
      ]
     },
     "metadata": {},
     "output_type": "display_data"
    },
    {
     "name": "stdout",
     "output_type": "stream",
     "text": [
      "Feature Importances:\n",
      "vote_count: 0.5921\n",
      "budget: 0.3222\n",
      "popularity: 0.0563\n",
      "runtime: 0.0136\n",
      "vote_average: 0.0097\n",
      "Adventure: 0.0015\n",
      "Action: 0.0013\n",
      "Animation: 0.0008\n",
      "Science Fiction: 0.0007\n",
      "Comedy: 0.0003\n",
      "Drama: 0.0003\n",
      "Family: 0.0003\n",
      "History: 0.0002\n",
      "Crime: 0.0002\n",
      "Thriller: 0.0002\n",
      "Western: 0.0001\n",
      "Documentary: 0.0001\n",
      "Horror: 0.0001\n",
      "Foreign: 0.0000\n",
      "Fantasy: 0.0000\n",
      "Romance: 0.0000\n",
      "Mystery: 0.0000\n",
      "War: 0.0000\n",
      "Music: 0.0000\n",
      "TV Movie: 0.0000\n"
     ]
    }
   ],
   "source": [
    "from sklearn.model_selection import cross_val_score\n",
    "\n",
    "# Determine the cross-validated correlation for linear and random forest models\n",
    "linear_regression_scores = cross_val_score(\n",
    "    linear_regression, positive_revenue_df[all_covariates], positive_revenue_df[regression_target], cv=10, scoring=correlation\n",
    ")\n",
    "forest_regression_scores = cross_val_score(\n",
    "    forest_regression, positive_revenue_df[all_covariates], positive_revenue_df[regression_target], cv=10, scoring=correlation\n",
    ")\n",
    "\n",
    "# Plot Results\n",
    "plt.axes().set_aspect('equal', 'box')\n",
    "plt.scatter(linear_regression_scores, forest_regression_scores)\n",
    "plt.plot((0, 1), (0, 1), 'k-')  # Reference diagonal line\n",
    "\n",
    "plt.xlim(0, 1)\n",
    "plt.ylim(0, 1)\n",
    "plt.xlabel(\"Linear Regression Score\")\n",
    "plt.ylabel(\"Forest Regression Score\")\n",
    "\n",
    "# Show the plot\n",
    "plt.show()\n",
    "\n",
    "# Print the importance of each covariate in the random forest regression\n",
    "forest_regression.fit(positive_revenue_df[all_covariates], positive_revenue_df[regression_target])\n",
    "feature_importances = sorted(\n",
    "    list(zip(all_covariates, forest_regression.feature_importances_)),\n",
    "    key=lambda tup: tup[1],\n",
    "    reverse=True\n",
    ")\n",
    "print(\"Feature Importances:\")\n",
    "for feature, importance in feature_importances:\n",
    "    print(f\"{feature}: {importance:.4f}\")\n"
   ]
  },
  {
   "cell_type": "markdown",
   "metadata": {},
   "source": [
    "### Exercise 7\n",
    "\n",
    "In this exercise, we will compute cross-validated performance for the linear and random forest classification models for positive revenue movies only.\n",
    "\n",
    "#### Instructions \n",
    "\n",
    "- Call `cross_val_score` using `logistic_regression` and `forest classifer` as models. Store the output as `logistic_regression_scores` and `forest_classification_scores`, respectively.\n",
    "    - Set the parameters `cv=10` to use 10-fold cross-validation and `scoring=accuracy` to use our `accuracy` function defined in the previous exercise.\n",
    "- Plotting code has been provided to compare the performance of the two models. Use `plt.show()` to plot the correlation between actual and predicted revenue for each cross-validation fold using the linear and random forest regression models.\n",
    "- Which of the two models exhibits a better fit? Is this result different from what we observed when considering all movies?\n",
    "- Code is provided for you that prints the importance of each covariate in predicting profitabilitiy using the random forests classifier. \n",
    "    - Which variables are most important?"
   ]
  },
  {
   "cell_type": "code",
   "execution_count": 34,
   "metadata": {},
   "outputs": [
    {
     "data": {
      "image/png": "[encoded data removed]",
      "text/plain": [
       "<Figure size 640x480 with 1 Axes>"
      ]
     },
     "metadata": {},
     "output_type": "display_data"
    },
    {
     "name": "stdout",
     "output_type": "stream",
     "text": [
      "Feature Importances:\n",
      "vote_count: 0.3805\n",
      "popularity: 0.3108\n",
      "vote_average: 0.1002\n",
      "budget: 0.0660\n",
      "runtime: 0.0414\n",
      "Drama: 0.0196\n",
      "Science Fiction: 0.0084\n",
      "Family: 0.0077\n",
      "War: 0.0063\n",
      "Documentary: 0.0062\n",
      "Western: 0.0058\n",
      "Action: 0.0056\n",
      "Thriller: 0.0045\n",
      "History: 0.0045\n",
      "Adventure: 0.0045\n",
      "Mystery: 0.0043\n",
      "Crime: 0.0042\n",
      "Romance: 0.0041\n",
      "Fantasy: 0.0040\n",
      "Comedy: 0.0034\n",
      "Music: 0.0029\n",
      "Horror: 0.0026\n",
      "Animation: 0.0016\n",
      "Foreign: 0.0009\n",
      "TV Movie: 0.0000\n"
     ]
    }
   ],
   "source": [
    "from sklearn.model_selection import cross_val_score\n",
    "\n",
    "# Define positive revenue subset\n",
    "positive_revenue_df = df[df['revenue'] > 0]\n",
    "\n",
    "# Define covariates and classification outcome for positive revenue movies\n",
    "covariates = positive_revenue_df[all_covariates]\n",
    "classification_outcome = positive_revenue_df['profitable']\n",
    "\n",
    "# Compute cross-validated accuracy for logistic and random forest models\n",
    "logistic_regression_scores = cross_val_score(\n",
    "    logistic_regression, covariates, classification_outcome, cv=10, scoring='accuracy'\n",
    ")\n",
    "forest_classification_scores = cross_val_score(\n",
    "    forest_classifier, covariates, classification_outcome, cv=10, scoring='accuracy'\n",
    ")\n",
    "\n",
    "# Plot Results\n",
    "plt.axes().set_aspect('equal', 'box')\n",
    "plt.scatter(logistic_regression_scores, forest_classification_scores)\n",
    "plt.plot((0, 1), (0, 1), 'k-')  # Reference diagonal line\n",
    "\n",
    "plt.xlim(0, 1)\n",
    "plt.ylim(0, 1)\n",
    "plt.xlabel(\"Logistic Regression Score\")\n",
    "plt.ylabel(\"Random Forest Classification Score\")\n",
    "\n",
    "# Show the plot\n",
    "plt.show()\n",
    "\n",
    "# Print the importance of each covariate in the random forest classification\n",
    "forest_classifier.fit(covariates, classification_outcome)\n",
    "feature_importances = sorted(\n",
    "    list(zip(all_covariates, forest_classifier.feature_importances_)),\n",
    "    key=lambda x: x[1],\n",
    "    reverse=True\n",
    ")\n",
    "print(\"Feature Importances:\")\n",
    "for feature, importance in feature_importances:\n",
    "    print(f\"{feature}: {importance:.4f}\")\n"
   ]
  },
  {
   "cell_type": "code",
   "execution_count": null,
   "metadata": {},
   "outputs": [],
   "source": []
  }
 ],
 "metadata": {
  "kernelspec": {
   "display_name": "Python 3 (ipykernel)",
   "language": "python",
   "name": "python3"
  },
  "language_info": {
   "codemirror_mode": {
    "name": "ipython",
    "version": 3
   },
   "file_extension": ".py",
   "mimetype": "text/x-python",
   "name": "python",
   "nbconvert_exporter": "python",
   "pygments_lexer": "ipython3",
   "version": "3.12.5"
  },
  "toc": {
   "base_numbering": 1,
   "nav_menu": {},
   "number_sections": true,
   "sideBar": true,
   "skip_h1_title": false,
   "title_cell": "Table of Contents",
   "title_sidebar": "Contents",
   "toc_cell": false,
   "toc_position": {},
   "toc_section_display": true,
   "toc_window_display": false
  }
 },
 "nbformat": 4,
 "nbformat_minor": 4
}
